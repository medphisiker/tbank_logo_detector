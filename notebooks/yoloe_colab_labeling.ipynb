{
 "cells": [
  {
   "cell_type": "markdown",
   "metadata": {},
   "source": [
    "# YOLOE Labeling in Colab with GDrive\n",
    "\n",
    "Этот notebook предназначен для автоматической разметки подмножества data_sirius (~1000 изображений) с использованием модели YOLOE в Google Colab.\n",
    "\n",
    "Цель: детекция 3 классов логотипов Т-Банка — yellow_shield_black_T, white_shield_black_T, purple_shield_white_T.\n",
    "\n",
    "Используются гибридные промпты (визуальные bbox из референсов и текстовые описания).\n",
    "\n",
    "Все операции с файлами через Google Drive: mount, copy/unzip в /content/, predict, save results back to GDrive.\n",
    "\n",
    "Выход: pseudo_coco.json с псевдо-аннотациями (COCO формат) и ZIP с runs/predict (TXT labels и изображения с bbox).\n",
    "\n",
    "**Предварительные требования:**\n",
    "\n",
    "- В GDrive в папке tbank_project/ (или измените GDRIVE_BASE) разместите:\n",
    "  - data_sirius.zip (~1000 изображений для разметки)\n",
    "  - refs_ls_coco.json (COCO экспорт из Label Studio с bbox для референсных изображений, классы 0-2)\n",
    "  - Опционально: example_ref.jpg (референсное изображение)\n",
    "  - Для optional eval: small_gt_coco.json (маленький GT COCO для mAP)"
   ]
  },
  {
   "cell_type": "code",
   "execution_count": null,
   "metadata": {},
   "outputs": [],
   "source": [
    "!pip install -U ultralytics pycocotools opencv-python pillow numpy google-colab --quiet"
   ]
  },
  {
   "cell_type": "markdown",
   "metadata": {},
   "source": [
    "## Mount Google Drive"
   ]
  },
  {
   "cell_type": "code",
   "execution_count": null,
   "metadata": {},
   "outputs": [],
   "source": [
    "from google.colab import drive\n",
    "drive.mount('/content/drive')"
   ]
  },
  {
   "cell_type": "markdown",
   "metadata": {},
   "source": [
    "## Define Paths (edit these variables)"
   ]
  },
  {
   "cell_type": "code",
   "execution_count": null,
   "metadata": {},
   "outputs": [],
   "source": [
    "# GDrive paths\n",
    "GDRIVE_BASE = '/content/drive/MyDrive/tbank_project/'  # Base folder in GDrive, change if needed\n",
    "DATA_ZIP = GDRIVE_BASE + 'data_sirius.zip'  # Zip with data_sirius subset (~1000 imgs)\n",
    "REFS_JSON = GDRIVE_BASE + 'refs_ls_coco.json'  # LS export for refs bbox/cls\n",
    "EXAMPLE_REF = GDRIVE_BASE + 'example_ref.jpg'  # Optional ref image if needed\n",
    "OUTPUT_DIR = GDRIVE_BASE + 'yoloe_results/'  # Where to save pseudo_coco.json and runs zip\n",
    "GT_COCO = GDRIVE_BASE + 'small_gt_coco.json'  # Optional GT for mAP\n",
    "\n",
    "# Local /content paths\n",
    "DATA_DIR = '/content/data_sirius_subset'\n",
    "REFS_LOCAL = '/content/refs_ls_coco.json'\n",
    "EXAMPLE_LOCAL = '/content/example_ref.jpg'\n",
    "PSEUDO_COCO = '/content/pseudo_coco.json'\n",
    "RUNS_DIR = '/content/runs/colab_predict'\n",
    "LABELS_DIR = RUNS_DIR + '/labels'\n",
    "GT_COCO_LOCAL = '/content/small_gt_coco.json'"
   ]
  },
  {
   "cell_type": "markdown",
   "metadata": {},
   "source": [
    "## Copy Files from GDrive to /content/"
   ]
  },
  {
   "cell_type": "code",
   "execution_count": null,
   "metadata": {},
   "outputs": [],
   "source": [
    "import os\n",
    "import zipfile\n",
    "os.makedirs(DATA_DIR, exist_ok=True)\n",
    "# Unzip data\n",
    "with zipfile.ZipFile(DATA_ZIP, 'r') as zip_ref:\n",
    "    zip_ref.extractall(DATA_DIR)\n",
    "# Copy refs JSON\n",
    "import shutil\n",
    "shutil.copy(REFS_JSON, REFS_LOCAL)\n",
    "if os.path.exists(EXAMPLE_REF):\n",
    "    shutil.copy(EXAMPLE_REF, EXAMPLE_LOCAL)\n",
    "print('Files copied to /content/')"
   ]
  },
  {
   "cell_type": "markdown",
   "metadata": {},
   "source": [
    "## Load and Prepare YOLOE"
   ]
  },
  {
   "cell_type": "code",
   "execution_count": null,
   "metadata": {},
   "outputs": [],
   "source": [
    "from ultralytics import YOLOE\n",
    "import numpy as np\n",
    "import json\n",
    "model = YOLOE('yoloe-11l-seg.pt')\n",
    "# Load refs for visual prompts\n",
    "with open(REFS_LOCAL, 'r') as f:\n",
    "    refs_data = json.load(f)\n",
    "# Group bboxes/cls by class (0-2, assume grouped in LS)\n",
    "grouped_bboxes = {}  # dict class_id: list of [x1,y1,x2,y2]\n",
    "grouped_cls = np.array([0,1,2])  # For multi-class\n",
    "# Example grouping code (adapt based on refs_data['annotations'])\n",
    "for ann in refs_data['annotations']:\n",
    "    cls_id = ann['category_id']\n",
    "    bbox = ann['bbox']  # [x,y,w,h] -> [x,y,x+w,y+h]\n",
    "    x1, y1, w, h = bbox\n",
    "    if cls_id not in grouped_bboxes:\n",
    "        grouped_bboxes[cls_id] = []\n",
    "    grouped_bboxes[cls_id].append([x1, y1, x1+w, y1+h])\n",
    "visual_prompts = {'bboxes': np.array(grouped_bboxes), 'cls': grouped_cls}\n",
    "# Text prompts\n",
    "names = ['yellow_shield_black_T', 'white_shield_black_T', 'purple_shield_white_T']\n",
    "text_prompts = ['yellow shield with black T logo', 'white shield with black T logo', 'purple shield with white T logo']\n",
    "model.set_classes(names, text_prompts)  # Hybrid"
   ]
  },
  {
   "cell_type": "markdown",
   "metadata": {},
   "source": [
    "## Run YOLOE Predict"
   ]
  },
  {
   "cell_type": "code",
   "execution_count": null,
   "metadata": {},
   "outputs": [],
   "source": [
    "import torch\n",
    "results = model.predict(\n",
    "    source=DATA_DIR,\n",
    "    visual_prompts=visual_prompts,\n",
    "    conf=0.5,\n",
    "    iou=0.7,\n",
    "    save_txt=True,\n",
    "    project=RUNS_DIR,\n",
    "    device=0 if torch.cuda.is_available() else 'cpu'\n",
    ")\n",
    "print('Prediction complete. Results in ' + RUNS_DIR + '/')"
   ]
  },
  {
   "cell_type": "markdown",
   "metadata": {},
   "source": [
    "## Export to COCO"
   ]
  },
  {
   "cell_type": "code",
   "execution_count": null,
   "metadata": {},
   "outputs": [],
   "source": [
    "# Script to convert predict txt to pseudo_coco.json\n",
    "# Assume standard YOLO txt: class cx cy w h conf per line\n",
    "# Build COCO structure\n",
    "coco = {\n",
    "    'info': {'description': 'YOLOE pseudo labels'},\n",
    "    'licenses': [],\n",
    "    'images': [],\n",
    "    'annotations': [],\n",
    "    'categories': [{'id': i+1, 'name': name} for i, name in enumerate(names)]\n",
    "}\n",
    "image_id = 0\n",
    "ann_id = 0\n",
    "for img_file in os.listdir(DATA_DIR):\n",
    "    if not img_file.lower().endswith(('.jpg', '.png', '.jpeg')): continue\n",
    "    img_path = os.path.join(DATA_DIR, img_file)\n",
    "    # Add image\n",
    "    from PIL import Image\n",
    "    with Image.open(img_path) as img:\n",
    "        w, h = img.size\n",
    "    coco['images'].append({'id': image_id, 'file_name': img_file, 'width': w, 'height': h})\n",
    "    # Load txt if exists\n",
    "    txt_file = img_file.rsplit('.',1)[0] + '.txt'\n",
    "    txt_path = os.path.join(LABELS_DIR, txt_file)\n",
    "    if os.path.exists(txt_path):\n",
    "        with open(txt_path, 'r') as f:\n",
    "            for line in f:\n",
    "                parts = line.strip().split()\n",
    "                if len(parts) < 5: continue\n",
    "                cls_id = int(parts[0])  # 0-2\n",
    "                conf = float(parts[5]) if len(parts) >5 else 1.0\n",
    "                cx, cy, bw, bh = map(float, parts[1:5])\n",
    "                x, y = cx - bw/2, cy - bh/2\n",
    "                w_ann, h_ann = bw * w, bh * h\n",
    "                coco['annotations'].append({\n",
    "                    'id': ann_id,\n",
    "                    'image_id': image_id,\n",
    "                    'category_id': cls_id +1,\n",
    "                    'bbox': [x, y, w_ann, h_ann],\n",
    "                    'area': w_ann * h_ann,\n",
    "                    'iscrowd': 0,\n",
    "                    'score': conf\n",
    "                })\n",
    "                ann_id += 1\n",
    "    image_id += 1\n",
    "with open(PSEUDO_COCO, 'w') as f:\n",
    "    json.dump(coco, f)\n",
    "print('Exported ' + PSEUDO_COCO)"
   ]
  },
  {
   "cell_type": "markdown",
   "metadata": {},
   "source": [
    "## Save Results to GDrive"
   ]
  },
  {
   "cell_type": "code",
   "execution_count": null,
   "metadata": {},
   "outputs": [],
   "source": [
    "os.makedirs(OUTPUT_DIR, exist_ok=True)\n",
    "shutil.copy(PSEUDO_COCO, OUTPUT_DIR + 'pseudo_coco.json')\n",
    "# Zip runs\n",
    "shutil.make_archive('/content/runs_colab', 'zip', RUNS_DIR)\n",
    "shutil.move('/content/runs_colab.zip', OUTPUT_DIR + 'runs_colab.zip')\n",
    "print('Saved to GDrive:', OUTPUT_DIR)"
   ]
  },
  {
   "cell_type": "markdown",
   "metadata": {},
   "source": [
    "## Optional: Evaluate mAP (upload small GT COCO to GDrive)"
   ]
  },
  {
   "cell_type": "code",
   "execution_count": null,
   "metadata": {},
   "outputs": [],
   "source": [
    "# If you have GT_COCO, uncomment below\n",
    "# shutil.copy(GT_COCO, GT_COCO_LOCAL)\n",
    "# from pycocotools.coco import COCO\n",
    "# from pycocotools.cocoeval import COCOeval\n",
    "# coco_gt = COCO(GT_COCO_LOCAL)\n",
    "# coco_dt = coco_gt.loadRes(PSEUDO_COCO)\n",
    "# coco_eval = COCOeval(coco_gt, coco_dt, 'bbox')\n",
    "# coco_eval.evaluate()\n",
    "# coco_eval.accumulate()\n",
    "# coco_eval.summarize()\n",
    "print('Add GT path and run for mAP')"
   ]
  }
 ],
 "metadata": {
  "kernelspec": {
   "display_name": "Python 3",
   "language": "python",
   "name": "python3"
  },
  "language_info": {
   "codemirror_mode": {
    "name": "ipython",
    "version": 3
   },
   "file_extension": ".py",
   "mimetype": "text/x-python",
   "name": "python",
   "nbconvert_exporter": "python",
   "pygments_lexer": "ipython3",
   "version": "3.10.0"
  }
 },
 "nbformat": 4,
 "nbformat_minor": 0
}
