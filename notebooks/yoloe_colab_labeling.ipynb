{
  "cells": [
    {
      "cell_type": "markdown",
      "metadata": {},
      "source": [
        "# YOLOE для bulk-разметки логотипов Т-Банка в Google Colab\n\n",
        "Этот notebook предназначен для автоматической разметки подмножества data_sirius (1000 изображений) с использованием модели YOLOE.\n",
        "Цель: детекция 3 классов логотипов Т-Банка — yellow_shield_black_T, white_shield_black_T, purple_shield_white_T.\n\n",
        "Используются гибридные промпты (визуальные из референсов и текстовые описания).\n",
        "Выход: pseudo_coco.json с псевдо-аннотациями и ZIP с предсказаниями.\n\n",
        "**Предварительные требования:**\n",
        "- Подготовьте refs_ls_coco.json (COCO-формат bbox для 9 референсных изображений, классы 0-2).\n",
        "- Подготовьте ZIP-архив data_sirius_subset.zip с 1000 изображениями."
      ]
    },
    {
      "cell_type": "code",
      "execution_count": null,
      "metadata": {},
      "outputs": [],
      "source": [
        "!pip install -U ultralytics pycocotools opencv-python pillow numpy -q"
      ]
    },
    {
      "cell_type": "markdown",
      "metadata": {},
      "source": [
        "## 2. Загрузка референсных аннотаций\n\n",
        "Загрузите файл refs_ls_coco.json — экспорт из Label Studio в COCO-формате с bbox для 9 референсных изображений (группированные по классам 0-2)."
      ]
    },
    {
      "cell_type": "code",
      "execution_count": null,
      "metadata": {},
      "outputs": [],
      "source": [
        "from google.colab import files\n",
        "uploaded = files.upload()\n\n",
        "import json\n",
        "with open('refs_ls_coco.json', 'r') as f:\n",
        "    refs_data = json.load(f)\n",
        "print('Референсные данные загружены.')"
      ]
    },
    {
      "cell_type": "markdown",
      "metadata": {},
      "source": [
        "## 3. Загрузка подмножества data_sirius\n\n",
        "Загрузите ZIP-архив с 1000 изображениями и разархивируйте в /content/data_sirius_subset/."
      ]
    },
    {
      "cell_type": "code",
      "execution_count": null,
      "metadata": {},
      "outputs": [],
      "source": [
        "uploaded = files.upload()  # Загрузите data_sirius_subset.zip\n",
        "!unzip data_sirius_subset.zip -d /content/data_sirius_subset/\n",
        "print('Данные разархивированы в /content/data_sirius_subset/')"
      ]
    },
    {
      "cell_type": "markdown",
      "metadata": {},
      "source": [
        "## 4. Загрузка модели YOLOE\n\n",
        "Загружаем предобученную модель YOLOE для сегментации (yoloe-11l-seg.pt). Модель скачается автоматически, если не существует."
      ]
    },
    {
      "cell_type": "code",
      "execution_count": null,
      "metadata": {},
      "outputs": [],
      "source": [
        "from ultralytics import YOLOE\n",
        "model = YOLOE('yoloe-11l-seg.pt')\n",
        "print('Модель загружена.')"
      ]
    },
    {
      "cell_type": "markdown",
      "metadata": {},
      "source": [
        "## 5. Подготовка гибридных промптов\n\n",
        "Визуальные промпты: извлекаем bbox и cls из refs_ls_coco.json для классов 0-2, нормализуем координаты.\n",
        "Текстовые промпты: описания классов для zero-shot компоненты."
      ]
    },
    {
      "cell_type": "code",
      "execution_count": null,
      "metadata": {},
      "outputs": [],
      "source": [
        "# Извлечение визуальных промптов из референсов\n",
        "ref_images_dict = {img['id']: img for img in refs_data['images']}\n",
        "ref_annotations = [ann for ann in refs_data['annotations'] if 0 <= ann['category_id'] <= 2]\n",
        "bboxes = []\n",
        "cls_list = []\n",
        "for ann in ref_annotations:\n",
        "    img = ref_images_dict[ann['image_id']]\n",
        "    x, y, w, h = ann['bbox']\n",
        "    x_norm = x / img['width']\n",
        "    y_norm = y / img['height']\n",
        "    w_norm = w / img['width']\n",
        "    h_norm = h / img['height']\n",
        "    bboxes.append([x_norm, y_norm, w_norm, h_norm])\n",
        "    cls_list.append(ann['category_id'])\n",
        "visual_prompts = {'bboxes': bboxes, 'cls': cls_list}\n",
        "print(f'Извлечено {len(bboxes)} визуальных промптов.')"
      ]
    },
    {
      "cell_type": "code",
      "execution_count": null,
      "metadata": {},
      "outputs": [],
      "source": [
        "# Определение классов и текстовых описаний\n",
        "class_names = ['yellow_shield_black_T', 'white_shield_black_T', 'purple_shield_white_T']\n",
        "text_descriptions = [\n",
        "    'yellow shield with black T logo',\n",
        "    'white shield with black T logo',\n",
        "    'purple shield with white T logo'\n",
        "]\n",
        "# Если API YOLOE поддерживает, установить классы и текст (раскомментировать при необходимости)\n",
        "# model.set_classes(class_names, text_prompts=text_descriptions)  # или аналогично get_text_pe"
      ]
    },
    {
      "cell_type": "markdown",
      "metadata": {},
      "source": [
        "## 6. Построение списка изображений для экспорта COCO"
      ]
    },
    {
      "cell_type": "code",
      "execution_count": null,
      "metadata": {},
      "outputs": [],
      "source": [
        "import os\n",
        "from PIL import Image\n",
        "image_dir = '/content/data_sirius_subset/'\n",
        "image_files = sorted([f for f in os.listdir(image_dir) if f.lower().endswith(('.jpg', '.jpeg', '.png'))])\n",
        "coco_images = []\n",
        "for i, fname in enumerate(image_files):\n",
        "    img_path = os.path.join(image_dir, fname)\n",
        "    with Image.open(img_path) as im:\n",
        "        w, h = im.size\n",
        "    coco_images.append({'id': i, 'width': w, 'height': h, 'file_name': fname})\n",
        "print(f'Подготовлено {len(coco_images)} изображений.')"
      ]
    },
    {
      "cell_type": "markdown",
      "metadata": {},
      "source": [
        "## 7. Предсказание на изображениях\n\n",
        "Запускаем inference с гибридными промптами, conf=0.5, iou=0.7. Сохраняем TXT и изображения в runs/colab_predict."
      ]
    },
    {
      "cell_type": "code",
      "execution_count": null,
      "metadata": {},
      "outputs": [],
      "source": [
        "results = model.predict(\n",
        "    source=image_dir,\n",
        "    visual_prompts=visual_prompts,\n",
        "    # refer_image='example_ref.jpg',  # раскомментировать, если нужен референсный пример\n",
        "    # text_prompts=text_descriptions,  # если поддерживается\n",
        "    conf=0.5,\n",
        "    iou=0.7,\n",
        "    save_txt=True,\n",
        "    save=True,\n",
        "    project='runs/colab_predict',\n",
        "    device='cuda' if available else 'cpu'  # автоматический\n",
        ")\n",
        "print('Предсказание завершено.')"
      ]
    },
    {
      "cell_type": "markdown",
      "metadata": {},
      "source": [
        "## 8. Экспорт предсказаний в COCO-формат\n\n",
        "Конвертируем результаты в pseudo_coco.json: bbox в xywh (пиксели), category_id 0-2, score. Используем объекты results для доступа к conf."
      ]
    },
    {
      "cell_type": "code",
      "execution_count": null,
      "metadata": {},
      "outputs": [],
      "source": [
        "categories = [{'id': i, 'name': class_names[i]} for i in range(3)]\n",
        "annotations = []\n",
        "ann_id = 0\n",
        "for i, result in enumerate(results):\n",
        "    if result.boxes is not None and len(result.boxes) > 0:\n",
        "        boxes = result.boxes.xywh.cpu().numpy()\n",
        "        clss = result.boxes.cls.cpu().numpy().astype(int)\n",
        "        confs = result.boxes.conf.cpu().numpy()\n",
        "        img_w = coco_images[i]['width']\n",
        "        img_h = coco_images[i]['height']\n",
        "        for j in range(len(clss)):\n",
        "            x_c, y_c, bw, bh = boxes[j]\n",
        "            x_min = (x_c - bw / 2) * img_w\n",
        "            y_min = (y_c - bh / 2) * img_h\n",
        "            w_pix = bw * img_w\n",
        "            h_pix = bh * img_h\n",
        "            area = w_pix * h_pix\n",
        "            annotations.append({\n",
        "                'id': ann_id,\n",
        "                'image_id': i,\n",
        "                'category_id': int(clss[j]),\n",
        "                'bbox': [float(x_min), float(y_min), float(w_pix), float(h_pix)],\n",
        "                'area': float(area),\n",
        "                'iscrowd': 0,\n",
        "                'score': float(confs[j])\n",
        "            })\n",
        "            ann_id += 1\n",
        "pseudo_coco = {\n",
        "    'images': coco_images,\n",
        "    'annotations': annotations,\n",
        "    'categories': categories\n",
        "}\n",
        "with open('pseudo_coco.json', 'w') as f:\n",
        "    json.dump(pseudo_coco, f, indent=2)\n",
        "print(f'Сохранено {len(annotations)} аннотаций для {len(coco_images)} изображений в pseudo_coco.json.')"
      ]
    },
    {
      "cell_type": "markdown",
      "metadata": {},
      "source": [
        "## 9. Скачивание результатов\n\n",
        "Скачиваем pseudo_coco.json и ZIP с runs/colab_predict (изображения с предсказаниями и TXT)."
      ]
    },
    {
      "cell_type": "code",
      "execution_count": null,
      "metadata": {},
      "outputs": [],
      "source": [
        "from google.colab import files\n",
        "files.download('pseudo_coco.json')\n",
        "!zip -r runs_colab.zip runs/colab_predict/\n",
        "files.download('runs_colab.zip')"
      ]
    },
    {
      "cell_type": "markdown",
      "metadata": {},
      "source": [
        "## Опционально: Оценка mAP на sample val\n\n",
        "Загрузите небольшой GT-файл (small_val.json) для вычисления mAP с использованием pycocotools.\n",
        "Это позволит оценить качество псевдо-разметки на валидационной выборке."
      ]
    },
    {
      "cell_type": "code",
      "execution_count": null,
      "metadata": {},
      "outputs": [],
      "source": [
        "uploaded_gt = files.upload()  # Загрузите small_val.json\n",
        "# Предполагаем, что файл называется 'small_val.json'\n",
        "from pycocotools.coco import COCO\n",
        "from pycocotools.cocoeval import COCOeval\n",
        "gt_coco = COCO('small_val.json')\n",
        "pred_coco = gt_coco.loadRes('pseudo_coco.json')\n",
        "coco_eval = COCOeval(gt_coco, pred_coco, 'bbox')\n",
        "coco_eval.evaluate()\n",
        "coco_eval.accumulate()\n",
        "coco_eval.summarize()\n",
        "print('Оценка mAP завершена.')"
      ]
    }
  ],
  "metadata": {
    "kernelspec": {
      "display_name": "Python 3",
      "language": "python",
      "name": "python3"
    },
    "language_info": {
      "codemirror_mode": {
        "name": "ipython",
        "version": 3
      },
      "file_extension": ".py",
      "mimetype": "text/x-python",
      "name": "python",
      "nbconvert_exporter": "python",
      "pygments_lexer": "ipython3",
      "version": "3.10.12"
    }
  },
  "nbformat": 4,
  "nbformat_minor": 5
}